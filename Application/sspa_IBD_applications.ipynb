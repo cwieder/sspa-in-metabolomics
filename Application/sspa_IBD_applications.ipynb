{
 "cells": [
  {
   "cell_type": "markdown",
   "id": "18bbe1d5",
   "metadata": {},
   "source": [
    "# ssPA applications\n"
   ]
  },
  {
   "cell_type": "code",
   "execution_count": null,
   "id": "6ebcfc34",
   "metadata": {},
   "outputs": [],
   "source": [
    "import matplotlib.pyplot as plt\n",
    "import numpy as np\n",
    "import pandas as pd\n",
    "import seaborn as sns\n",
    "from process_met_data import ProcData\n",
    "from process_pathways import ProcessPathways\n",
    "import methods\n",
    "import scipy.stats as stats\n",
    "from scipy.spatial.distance import pdist\n",
    "import statsmodels.api as sm\n",
    "from sklearn.decomposition import PCA\n",
    "from sklearn.cluster import KMeans\n",
    "from sklearn.metrics import adjusted_rand_score, rand_score\n",
    "from scipy.cluster.hierarchy import fcluster, fclusterdata, linkage, dendrogram\n",
    "from sklearn.preprocessing import StandardScaler\n",
    "\n",
    "import rpy2.robjects as ro\n",
    "from rpy2.robjects.packages import importr\n",
    "from rpy2.robjects import pandas2ri\n",
    "from rpy2.robjects.conversion import localconverter"
   ]
  },
  {
   "cell_type": "code",
   "execution_count": null,
   "id": "15c469cb",
   "metadata": {},
   "outputs": [],
   "source": [
    "def compute_ARI(df, md_col, n_clusters):\n",
    "    true_labels = pd.factorize(md_col)[0]\n",
    "    true_labels = [i+1 for i in true_labels]\n",
    "    autoscale_dat = pd.DataFrame(StandardScaler().fit_transform(df.iloc[:, :-2]))\n",
    "    clustering = fclusterdata(autoscale_dat, metric=\"Euclidean\", method=\"ward\", t=n_clusters, criterion=\"maxclust\")\n",
    "    ARI = adjusted_rand_score(true_labels, clustering)\n",
    "    return ARI\n",
    "\n",
    "def compute_RI(df, md_col, n_clusters):\n",
    "    true_labels = pd.factorize(md_col)[0]\n",
    "    true_labels = [i+1 for i in true_labels]\n",
    "    autoscale_dat = pd.DataFrame(StandardScaler().fit_transform(df.iloc[:, :-2]))\n",
    "    clustering = fclusterdata(autoscale_dat, metric=\"Euclidean\", method=\"ward\", t=n_clusters, criterion=\"maxclust\")\n",
    "    ARI = rand_score(true_labels, clustering)\n",
    "    return ARI"
   ]
  },
  {
   "cell_type": "code",
   "execution_count": null,
   "id": "5f49cf68",
   "metadata": {},
   "outputs": [],
   "source": [
    "def gsva_res(mat, pathways):\n",
    "    base = importr('base')\n",
    "#     print(dir(base))\n",
    "    with localconverter(ro.default_converter + pandas2ri.converter):\n",
    "        r_mat = ro.conversion.py2rpy(mat.T)\n",
    "    r_mat = base.as_matrix(r_mat)  # abundance matrix\n",
    "    row_vec = base.as_character(mat.columns.tolist())\n",
    "    \n",
    "    r_mat.rownames = row_vec\n",
    "    r_list = ro.ListVector(pathways)  # pathways\n",
    "    gsva_r = importr('GSVA')\n",
    "    gsva_res = gsva_r.gsva(r_mat, r_list)\n",
    "    with localconverter(ro.default_converter + pandas2ri.converter):\n",
    "        gsva_df = ro.conversion.rpy2py(gsva_res)\n",
    "    gsva_res_df = pd.DataFrame(gsva_df, index=pathways.keys(), columns=mat.iloc[:, :-1].index.tolist())\n",
    "    return gsva_res_df\n",
    "\n",
    "def ssgsea_results(mat, pathways):\n",
    "    base = importr('base')\n",
    "    with localconverter(ro.default_converter + pandas2ri.converter):\n",
    "        r_mat = ro.conversion.py2rpy(mat.iloc[:, :-1].T)\n",
    "    r_mat = base.as_matrix(r_mat)  # abundance matrix\n",
    "    row_vec = base.as_character(mat.columns[:-1].tolist())\n",
    "    r_mat.rownames = row_vec\n",
    "    r_list = ro.ListVector(pathways)  # pathways\n",
    "    gsva_r = importr('GSVA')\n",
    "    gsva_res = gsva_r.gsva(r_mat, r_list, method=\"ssgsea\")\n",
    "    with localconverter(ro.default_converter + pandas2ri.converter):\n",
    "        gsva_df = ro.conversion.rpy2py(gsva_res)\n",
    "    ssgsea_scores = pd.DataFrame(gsva_df, index=pathways.keys(), columns=mat.iloc[:, :-1].index.tolist())\n",
    "    return ssgsea_scores\n",
    "\n",
    "def clusterproj_ttest(mat, pathways):\n",
    "    pathway_matrices = []\n",
    "    pathway_ids = []\n",
    "    for pathway, compounds in pathways.items():\n",
    "        single_pathway_matrix = mat.drop(mat.columns.difference(compounds), axis=1)\n",
    "        if single_pathway_matrix.shape[1] >= 1:\n",
    "            pathway_matrices.append(single_pathway_matrix.values)\n",
    "            pathway_ids.append(pathway)\n",
    "\n",
    "    scores = []\n",
    "    for m in pathway_matrices:\n",
    "        kmeans = KMeans(n_clusters=2).fit(m)\n",
    "        centroids1 = kmeans.cluster_centers_[0]\n",
    "        centroids2 = kmeans.cluster_centers_[1]\n",
    "\n",
    "        vec = centroids1 - centroids2\n",
    "        unit_vec = vec / np.linalg.norm(vec)\n",
    "        proj_data = unit_vec.dot(m.T)\n",
    "        scores.append(proj_data)\n",
    "\n",
    "    scores_df = pd.DataFrame(scores, columns=mat.index, index=pathways.keys())\n",
    "    return scores_df\n",
    "\n",
    "def zscore_res(mat, pathways):\n",
    "    mat_t = mat.T\n",
    "    pathway_activities = []\n",
    "\n",
    "    for k, v in pathways.items():\n",
    "        pathway_mat = mat_t.iloc[mat_t.index.isin(v), :]\n",
    "        pathway_mat = pathway_mat.to_numpy(dtype=float)\n",
    "        zscores = stats.zscore(pathway_mat, axis=1)\n",
    "        # avg_zscore = np.mean(zscores, axis=0)\n",
    "        # pathway_act = avg_zscore / np.sqrt(pathway_mat.shape[0])\n",
    "        sum_zscore = np.sum(zscores, axis=0)\n",
    "        pathway_act = sum_zscore / np.sqrt(pathway_mat.shape[0])\n",
    "        pathway_activities.append(pathway_act)\n",
    "    pathway_activities_df = pd.DataFrame(pathway_activities, columns=mat.index, index=pathways.keys())\n",
    "    return pathway_activities_df\n",
    "\n",
    "def cluster_res(mat, pathways):\n",
    "    pathway_matrices = []\n",
    "    pathway_ids = []\n",
    "    for pathway, compounds in pathways.items():\n",
    "        single_pathway_matrix = mat.drop(mat.columns.difference(compounds), axis=1)\n",
    "        if single_pathway_matrix.shape[1] >= 1:\n",
    "            pathway_matrices.append(single_pathway_matrix.values)\n",
    "            pathway_ids.append(pathway)\n",
    "\n",
    "    scores = []\n",
    "    for m in pathway_matrices:\n",
    "        kmeans = KMeans(n_clusters=2)\n",
    "        new_data = kmeans.fit_transform(m)\n",
    "        scores.append(new_data[:, 0])\n",
    "    scores_df = pd.DataFrame(scores, columns=mat.index, index=pathways.keys())\n",
    "#     t_test_res = t_tests(scores_df.T, mat[\"Group\"], \"fdr_bh\")\n",
    "    return scores_df\n",
    "\n",
    "\n",
    "from sklearn.decomposition import KernelPCA\n",
    "def kpca_res(mat, pathways):\n",
    "    pathway_matrices = []\n",
    "    pathway_ids = []\n",
    "    for pathway, compounds in pathways.items():\n",
    "        single_pathway_matrix = mat.drop(mat.columns.difference(compounds), axis=1)\n",
    "        if single_pathway_matrix.shape[1] >= 1:\n",
    "            pathway_matrices.append(single_pathway_matrix.values)\n",
    "            pathway_ids.append(pathway)\n",
    "\n",
    "    scores = []\n",
    "    for n, m in enumerate(pathway_matrices):\n",
    "        kpca = KernelPCA(n_components=2, kernel=\"rbf\")\n",
    "        new_data = kpca.fit_transform(m)\n",
    "        scores.append(new_data[:, 0])\n",
    "    scores_df = pd.DataFrame(scores, columns=mat.index, index=pathways.keys())\n",
    "    return scores_df\n",
    "\n",
    "\n",
    "def met_level(mat, pathways):\n",
    "    all_pathway_mets = list(set([x for sublist in pathways_present.values() for x in sublist]))\n",
    "    mat = mat[mat.columns.intersection(all_pathway_mets)]\n",
    "    return mat.T\n",
    "\n",
    "def all_met(mat, pathways):\n",
    "    return mat.T"
   ]
  },
  {
   "cell_type": "markdown",
   "id": "f2c0313c",
   "metadata": {},
   "source": [
    "# Clustering on IBD dataset"
   ]
  },
  {
   "cell_type": "code",
   "execution_count": null,
   "id": "89bf7b65",
   "metadata": {},
   "outputs": [],
   "source": [
    "ibd_data = ProcData(\"IBD\")\n",
    "ibd_data.process_IBD(id_type=\"CHEBI\")\n",
    "ibd_data_orig = ibd_data.data_proc"
   ]
  },
  {
   "cell_type": "code",
   "execution_count": null,
   "id": "080ab8dd",
   "metadata": {},
   "outputs": [],
   "source": [
    "ibd_data_orig.shape"
   ]
  },
  {
   "cell_type": "code",
   "execution_count": null,
   "id": "37dd6a95",
   "metadata": {},
   "outputs": [],
   "source": [
    "# Load Reactome pathway dictionary\n",
    "R76 = ProcessPathways(\"R76\", \"ChEBI2Reactome_All_Levels.txt\", \"Homo sapiens\")\n",
    "pathway_dict, pathway_names = R76.process_reactome()\n",
    "\n",
    "# Remove large and uninformative pathways\n",
    "# TODO Remove large and uninformative pathways\n",
    "remove_paths = [\"R-HSA-1430728\", \"R-HSA-1643685\", \"R-HSA-382551\"]\n",
    "pathway_dict = {k: v for k, v in pathway_dict.items() if k not in remove_paths}\n",
    "\n",
    "# Remove pathways not present in the dataset\n",
    "compounds_present = ibd_data_orig.columns.tolist()\n",
    "pathways_present = {k: v for k, v in pathway_dict.items() if len([i for i in compounds_present if i in v]) > 1}\n",
    "print(len(pathways_present))\n",
    "print(len(compounds_present))"
   ]
  },
  {
   "cell_type": "code",
   "execution_count": null,
   "id": "77b7e404",
   "metadata": {},
   "outputs": [],
   "source": [
    "# Filter metabolites \n",
    "ibd_data_orig = ibd_data.data_proc\n",
    "all_pathway_mets = list(set([x for sublist in pathways_present.values() for x in sublist]))\n",
    "md = ibd_data_orig[[\"IBD_status\", \"Group\"]]\n",
    "\n",
    "ibd_data_orig = ibd_data_orig[ibd_data_orig.columns.intersection(all_pathway_mets)]\n",
    "ibd_data_orig = pd.concat([ibd_data_orig, md], axis=1)\n",
    "print(ibd_data_orig.shape)\n",
    "\n",
    "who_status_sample = dict(zip(ibd_data_orig.index, ibd_data_orig[\"IBD_status\"]))\n",
    "colours = sns.color_palette(\"tab10\")\n",
    "\n",
    "uniq_who = list(set(ibd_data_orig[\"IBD_status\"]))\n",
    "colors_dict = dict(zip(uniq_who, colours[0:4]))\n",
    "group_dict = dict(zip(list(set(ibd_data_orig[\"Group\"])), [colours[-3], colours[-2]]))\n",
    "row_cols = dict(zip(ibd_data_orig.index, [colors_dict[i] for i in ibd_data_orig[\"IBD_status\"]]))\n",
    "row_cols2 = dict(zip(ibd_data_orig.index, [group_dict[i] for i in ibd_data_orig[\"Group\"]]))\n",
    "\n",
    "col_cols = ibd_data_orig.index.map(row_cols)\n",
    "col_cols2 = ibd_data_orig.index.map(row_cols2)\n",
    "\n",
    "g = sns.clustermap(ibd_data_orig.iloc[:, :-2],\n",
    "#                z_score=1,\n",
    "               row_colors=[col_cols, col_cols2],\n",
    "               method=\"ward\",\n",
    "              yticklabels=False,\n",
    "              xticklabels=False,\n",
    "                  cmap=\"magma\")\n",
    "\n",
    "g.ax_heatmap.set_ylabel(\"Samples\", fontsize=14)\n",
    "g.ax_heatmap.set_xlabel(\"Metabolites\", fontsize=14)\n",
    "\n",
    "from matplotlib.pyplot import gcf\n",
    "\n",
    "for label in list(set(ibd_data_orig[\"IBD_status\"])):\n",
    "    g.ax_col_dendrogram.bar(0, 0, color=colors_dict[label], label=label, linewidth=0)\n",
    "\n",
    "l1 = g.ax_col_dendrogram.legend(title='IBD status', loc=\"center\", ncol=1, bbox_to_anchor=(0.5, 1.05), bbox_transform=gcf().transFigure)\n",
    "\n",
    "for label in list(set(ibd_data_orig[\"Group\"])):\n",
    "    g.ax_row_dendrogram.bar(0, 0, color=group_dict[label], label=label, linewidth=0)\n",
    "\n",
    "l2 = g.ax_row_dendrogram.legend(title='Group', loc=\"center\", ncol=1, bbox_to_anchor=(0.7, 1.05), bbox_transform=gcf().transFigure)\n",
    "\n",
    "# plt.savefig(\"hpc_figures/IBD_cluster_metabolites_filt.png\", dpi=300, transparent=True, bbox_inches='tight')\n",
    "\n",
    "plt.show()"
   ]
  },
  {
   "cell_type": "code",
   "execution_count": null,
   "id": "9da930ba",
   "metadata": {},
   "outputs": [],
   "source": [
    "compute_ARI(ibd_data_orig, ibd_data_orig[\"Group\"], 2)"
   ]
  },
  {
   "cell_type": "markdown",
   "id": "efe535b9",
   "metadata": {},
   "source": [
    "## IBD clustering performance plot (p-values)"
   ]
  },
  {
   "cell_type": "code",
   "execution_count": null,
   "id": "97297820",
   "metadata": {},
   "outputs": [],
   "source": [
    "def t_tests(matrix, classes, multiple_correction_method, testtype=\"ttest\"):\n",
    "    metabolites = matrix.columns.tolist()\n",
    "    matrix['Target'] = pd.factorize(classes)[0]\n",
    "    disease = matrix.loc[matrix[\"Target\"] == 0]\n",
    "    disease.drop(['Target'], axis=1, inplace=True)\n",
    "    ctrl = matrix.loc[matrix[\"Target\"] != 0]\n",
    "    ctrl.drop(['Target'], axis=1, inplace=True)\n",
    "    if testtype == \"mwu\":\n",
    "        pvalues = stats.mannwhitneyu(disease, ctrl, axis=0)[1]\n",
    "    else:\n",
    "        pvalues = stats.ttest_ind(disease, ctrl)[1]\n",
    "        \n",
    "    print(len(pvalues))\n",
    "    padj = sm.stats.multipletests(pvalues, 0.05, method=multiple_correction_method)\n",
    "    results = pd.DataFrame(zip(metabolites, pvalues, padj[1]),\n",
    "                           columns=[\"Metabolite\", \"P-value\", \"P-adjust\"])\n",
    "    return results"
   ]
  },
  {
   "cell_type": "code",
   "execution_count": null,
   "id": "f201c35c",
   "metadata": {},
   "outputs": [],
   "source": [
    "scores = kpca_res(ibd_data_orig.iloc[:, :-2], pathways_present).T"
   ]
  },
  {
   "cell_type": "code",
   "execution_count": null,
   "id": "12936f43",
   "metadata": {},
   "outputs": [],
   "source": [
    "de_res_path = methods.t_tests(scores, ibd_data_orig[\"Group\"], \"fdr_bh\", testtype=\"mwu\")"
   ]
  },
  {
   "cell_type": "code",
   "execution_count": null,
   "id": "3625446f",
   "metadata": {},
   "outputs": [],
   "source": [
    "sig_paths = de_res_path[de_res_path[\"P-adjust\"] <= 0.05]\n",
    "ranked_sig_paths = sig_paths.sort_values(by=\"P-adjust\")[\"Metabolite\"].tolist()"
   ]
  },
  {
   "cell_type": "code",
   "execution_count": null,
   "id": "55b6a561",
   "metadata": {},
   "outputs": [],
   "source": [
    "len(sig_paths)"
   ]
  },
  {
   "cell_type": "code",
   "execution_count": null,
   "id": "ab11f30d",
   "metadata": {},
   "outputs": [],
   "source": [
    "aris_path = []\n",
    "for i in range(0, len(ranked_sig_paths), 1):\n",
    "    pathsranked = ranked_sig_paths[0:i+1]\n",
    "    scores_filt = scores.loc[:, pathsranked]\n",
    "    scores_df = pd.concat([scores_filt, ibd_data_orig[[\"Group\", \"IBD_status\"]]], axis=1)\n",
    "#     aris_path.append(compute_ARI(scores_df, scores_df[\"Group\"], 2))\n",
    "    aris_path.append(compute_ARI(scores_df, scores_df[\"Group\"], 2))    "
   ]
  },
  {
   "cell_type": "code",
   "execution_count": null,
   "id": "f21e4b75",
   "metadata": {},
   "outputs": [],
   "source": [
    "all_mets = ibd_data_orig.iloc[:, :-2]\n",
    "all_pathway_mets = list(set([x for sublist in pathways_present.values() for x in sublist]))\n",
    "md = ibd_data_orig[[\"IBD_status\", \"Group\"]]\n",
    "\n",
    "ibd_data_orig = ibd_data_orig[ibd_data_orig.columns.intersection(all_pathway_mets)]\n",
    "ibd_data_orig = pd.concat([ibd_data_orig, md], axis=1)\n",
    "de_res_met = methods.t_tests(ibd_data_orig.iloc[:, :-2], ibd_data_orig[\"Group\"], \"fdr_bh\")\n",
    "sig_mets = de_res_met[de_res_met[\"P-adjust\"] <= 0.05]\n",
    "ranked_sig_mets = sig_mets.sort_values(by=\"P-adjust\")[\"Metabolite\"].tolist()\n",
    "print(len(sig_mets))\n",
    "\n",
    "aris_met = []\n",
    "for i in range(0, len(ranked_sig_mets), 1):\n",
    "    metsranked = ranked_sig_mets[0:i+1]\n",
    "    mets_filt = all_mets.loc[:, metsranked]\n",
    "    mets_df = pd.concat([mets_filt, ibd_data_orig[[\"Group\", \"IBD_status\"]]], axis=1)\n",
    "#     aris_met.append(compute_ARI(mets_df, mets_df[\"Group\"], 2))\n",
    "    aris_met.append(compute_ARI(mets_df, mets_df[\"Group\"], 2))"
   ]
  },
  {
   "cell_type": "code",
   "execution_count": null,
   "id": "baccfc75",
   "metadata": {},
   "outputs": [],
   "source": [
    "len(aris_path) - len(aris_met)"
   ]
  },
  {
   "cell_type": "code",
   "execution_count": null,
   "id": "80f04bea",
   "metadata": {},
   "outputs": [],
   "source": [
    "aris_met = aris_met + [np.nan for i in range(len(aris_path) - len(aris_met))]"
   ]
  },
  {
   "cell_type": "code",
   "execution_count": null,
   "id": "3d6af4b9",
   "metadata": {},
   "outputs": [],
   "source": [
    "# use boxplots every 10 entities\n",
    "ari_df = pd.DataFrame(np.array([aris_met, aris_path]).T, columns=[\"Metabolite\", \"Pathway\"])\n",
    "import math\n",
    "ari_df[\"interval\"] = [i for i in range(1, math.ceil(len(aris_path)/10)+1) for x in range(10)][0:len(aris_path)]"
   ]
  },
  {
   "cell_type": "code",
   "execution_count": null,
   "id": "4bd0d59a",
   "metadata": {},
   "outputs": [],
   "source": [
    "ari_df_l = pd.melt(ari_df, value_vars=[\"Metabolite\", \"Pathway\"], id_vars=\"interval\", value_name=\"ARI\", var_name=\"Entity type\")"
   ]
  },
  {
   "cell_type": "code",
   "execution_count": null,
   "id": "3b756ad3",
   "metadata": {},
   "outputs": [],
   "source": [
    "ari_df"
   ]
  },
  {
   "cell_type": "code",
   "execution_count": null,
   "id": "adfa6b8a",
   "metadata": {},
   "outputs": [],
   "source": [
    "fig, ax = plt.subplots(figsize=(8, 5))\n",
    "ax = sns.violinplot(x=\"interval\", y=\"ARI\", hue=\"Entity type\",\n",
    "                    data=ari_df_l, palette=\"Set2\", split=True, ax=ax, cut=0, scale=\"width\", inner=\"quartile\")\n",
    "ax.set_xticklabels([str(0)+\"-\"+str(a+10) for a in range(0, 120, 10)], rotation=45)\n",
    "\n",
    "for l in ax.lines[1::3]:\n",
    "    l.set_linestyle('-')\n",
    "    l.set_linewidth(1.2)\n",
    "    l.set_color('black')\n",
    "    l.set_alpha(0.8)\n",
    "\n",
    "plt.xlabel(\"Number of entities used in clustering\", fontsize=13, fontweight=\"bold\")\n",
    "plt.ylabel(\"Adjusted Rand Index\", fontsize=13, fontweight=\"bold\")\n",
    "plt.tight_layout()\n",
    "plt.style.use(\"seaborn-ticks\")\n",
    "sns.despine()\n",
    "plt.savefig(\"../figures/IBD_RI_analysis_violinplots_p_less_005.png\", dpi=350, transparent=True, bbox_inches='tight')\n",
    "plt.show()"
   ]
  },
  {
   "cell_type": "markdown",
   "id": "26a3b647",
   "metadata": {},
   "source": [
    "# Biological interpretaion of IBD dataset - clustering based on pathway scores (kPCA method)"
   ]
  },
  {
   "cell_type": "code",
   "execution_count": null,
   "id": "41f19839",
   "metadata": {},
   "outputs": [],
   "source": [
    "scores = kpca_res(ibd_data_orig.iloc[:, :-2], pathways_present).T\n",
    "de_res_path = methods.t_tests(scores, ibd_data_orig[\"Group\"], \"fdr_bh\")"
   ]
  },
  {
   "cell_type": "code",
   "execution_count": null,
   "id": "e1922296",
   "metadata": {},
   "outputs": [],
   "source": [
    "ibd_data_orig.index"
   ]
  },
  {
   "cell_type": "code",
   "execution_count": null,
   "id": "d95eca14",
   "metadata": {},
   "outputs": [],
   "source": [
    "top50paths = de_res_path.sort_values(by=\"P-adjust\")[\"Metabolite\"].tolist()[0:50]\n",
    "scores = scores.loc[:, top50paths]\n",
    "scores_df = pd.concat([scores, ibd_data_orig[[\"Group\", \"IBD_status\"]]], axis=1)\n",
    "\n",
    "who_status_sample = dict(zip(ibd_data_orig.index, ibd_data_orig[\"IBD_status\"]))\n",
    "colours = sns.color_palette(\"tab10\")\n",
    "\n",
    "ibd_status = [\"nonIBD\", \"CD\", \"UC\"]\n",
    "colors_dict = dict(zip(ibd_status, [\"lightseagreen\",\"gold\", \"tab:purple\"]))\n",
    "group_dict = {\"non-IBD\":\"lightseagreen\", \"IBD\":\"lightcoral\"}\n",
    "row_cols = dict(zip(ibd_data_orig.index, [colors_dict[i] for i in ibd_data_orig[\"IBD_status\"]]))\n",
    "row_cols2 = dict(zip(ibd_data_orig.index, [group_dict[i] for i in ibd_data_orig[\"Group\"]]))\n",
    "print(colors_dict)\n",
    "print(group_dict)"
   ]
  },
  {
   "cell_type": "code",
   "execution_count": null,
   "id": "efb384ce",
   "metadata": {},
   "outputs": [],
   "source": [
    "\n",
    "col_cols = ibd_data_orig.index.map(row_cols)\n",
    "col_cols2 = ibd_data_orig.index.map(row_cols2)\n",
    "sns.set_style(\"ticks\")\n",
    "g = sns.clustermap(scores_df.iloc[:, :-2].T,\n",
    "               z_score=0,\n",
    "               col_colors=[col_cols, col_cols2],\n",
    "               method=\"ward\",\n",
    "              yticklabels=True,\n",
    "              xticklabels=False,\n",
    "                  cmap=\"RdBu_r\",\n",
    "                  cbar_kws={'label': 'Standardised kPCA pathway score'},\n",
    "                  cbar_pos=(0.05, 0.9, 0.05, 0.18),\n",
    "                  tree_kws={'colors':'black'})\n",
    "dendro_cols = sns.color_palette(\"RdBu_r\")\n",
    "g.ax_heatmap.set_xlabel(\"Samples\", fontsize=14)\n",
    "g.ax_heatmap.set_ylabel(\"Pathways\", fontsize=14)\n",
    "g.ax_heatmap.set_yticklabels([pathway_names[i] for i in top50_map])\n",
    "\n",
    "# legends \n",
    "from matplotlib.pyplot import gcf\n",
    "for label in ibd_status:\n",
    "    if label == \"nonIBD\":\n",
    "        g.ax_col_dendrogram.bar(0, 0, color=colors_dict[label], label=\"non-IBD\", linewidth=0)\n",
    "        \n",
    "    else:\n",
    "        g.ax_col_dendrogram.bar(0, 0, color=colors_dict[label], label=label, linewidth=0)\n",
    "\n",
    "l1 = g.ax_col_dendrogram.legend(title='IBD status', loc=\"center\", ncol=1, bbox_to_anchor=(0.5, 1.05), bbox_transform=gcf().transFigure)\n",
    "\n",
    "for label in list(set(ibd_data_orig[\"Group\"])):\n",
    "    g.ax_row_dendrogram.bar(0, 0, color=group_dict[label], label=label, linewidth=0)\n",
    "\n",
    "l2 = g.ax_row_dendrogram.legend(title='Group', loc=\"center\", ncol=1, bbox_to_anchor=(0.7, 1.05), bbox_transform=gcf().transFigure)\n",
    "\n",
    "# set dendrogram colours\n",
    "for l in g.ax_row_dendrogram.collections:\n",
    "    l.set_edgecolor([dendro_cols[5] for i in range(0, 25)] + [dendro_cols[0] for i in range(0, 25)] )\n",
    "    \n",
    "# set y label colours\n",
    "ytickcols = [dendro_cols[5] for i in range(lastcluster1_ind+1)]+ [dendro_cols[0] for i in range(lastcluster1_ind+1, 50)]\n",
    "[t.set_color(ytickcols[n]) for n, t in enumerate(g.ax_heatmap.get_yticklabels())]\n",
    "\n",
    "plt.style.use(\"seaborn-ticks\")\n",
    "\n",
    "plt.savefig(\"hpc_figures/IBD_cluster_kPCA_top50.png\", dpi=350, transparent=True, bbox_inches='tight')\n",
    "\n",
    "plt.show()"
   ]
  },
  {
   "cell_type": "code",
   "execution_count": null,
   "id": "83ffdd4a",
   "metadata": {},
   "outputs": [],
   "source": []
  },
  {
   "cell_type": "code",
   "execution_count": null,
   "id": "93ae8796",
   "metadata": {},
   "outputs": [],
   "source": [
    "color=[dendro_cols[5] for i in range(lastcluster1_ind+1)]+ [dendro_cols[0] for i in range(lastcluster1_ind+1, 50)]"
   ]
  },
  {
   "cell_type": "code",
   "execution_count": null,
   "id": "9f9cd232",
   "metadata": {},
   "outputs": [],
   "source": [
    "sns.color_palette(\"RdBu_r\")"
   ]
  },
  {
   "cell_type": "code",
   "execution_count": null,
   "id": "a2de839a",
   "metadata": {},
   "outputs": [],
   "source": [
    "compute_ARI(scores_df.iloc[:, :-2], scores_df[\"Group\"], 2)"
   ]
  },
  {
   "cell_type": "code",
   "execution_count": null,
   "id": "8c3f8181",
   "metadata": {},
   "outputs": [],
   "source": [
    "upreg_ibd = g.dendrogram_row.reordered_ind[0:15]\n",
    "downreg_ibd = g.dendrogram_row.reordered_ind[15:]"
   ]
  },
  {
   "cell_type": "code",
   "execution_count": null,
   "id": "4c5605e3",
   "metadata": {},
   "outputs": [],
   "source": [
    "top50_dict = dict(zip(range(0, 50), top50paths))\n",
    "top50_map = [top50_dict[i] for i in g.dendrogram_row.reordered_ind]\n",
    "lastcluster1_ind = top50_map.index(\"R-HSA-2142753\")\n",
    "upreg_ibd_paths = top50_map[0:lastcluster1_ind+1]\n",
    "downreg_ibd_paths = top50_map[lastcluster1_ind+1:]"
   ]
  },
  {
   "cell_type": "code",
   "execution_count": null,
   "id": "36afdbde",
   "metadata": {},
   "outputs": [],
   "source": [
    "print(upreg_ibd_paths)"
   ]
  },
  {
   "cell_type": "code",
   "execution_count": null,
   "id": "5ec5ce7e",
   "metadata": {},
   "outputs": [],
   "source": [
    "# use gsea to determine cluster direction\n",
    "print(scores_df[scores_df[\"Group\"] == \"IBD\"][\"R-HSA-442660\"].mean())\n",
    "print(scores_df[scores_df[\"Group\"] != \"IBD\"][\"R-HSA-442660\"].mean())"
   ]
  },
  {
   "cell_type": "markdown",
   "id": "dc5ef9d0",
   "metadata": {},
   "source": [
    "## PCAs"
   ]
  },
  {
   "cell_type": "code",
   "execution_count": null,
   "id": "9f88917d",
   "metadata": {},
   "outputs": [],
   "source": [
    "scores = kpca_res(ibd_data_orig.iloc[:, :-2], pathways_present).T\n",
    "de_res_path = methods.t_tests(scores, ibd_data_orig[\"Group\"], \"fdr_bh\")\n",
    "top50paths = de_res_path.sort_values(by=\"P-adjust\")[\"Metabolite\"].tolist()\n",
    "scores = scores.loc[:, top50paths]\n",
    "scores_df = pd.concat([scores, ibd_data_orig[[\"Group\", \"IBD_status\"]]], axis=1)"
   ]
  },
  {
   "cell_type": "code",
   "execution_count": null,
   "id": "b979c179",
   "metadata": {},
   "outputs": [],
   "source": [
    "# standardise scores df\n",
    "scores_df.iloc[:, :-2] = StandardScaler().fit_transform(scores_df.iloc[:, :-2].to_numpy())"
   ]
  },
  {
   "cell_type": "code",
   "execution_count": null,
   "id": "73dbbaea",
   "metadata": {},
   "outputs": [],
   "source": [
    "pca_ss = PCA(n_components=2).fit_transform(scores_df.iloc[:, :-2])\n",
    "pca_df_ss = pd.DataFrame(pca_ss)\n",
    "pca_df_ss[\"Group\"] = ibd_data_orig[\"IBD_status\"].tolist()\n",
    "plt.figure(figsize=(8, 8))\n",
    "sns.pairplot(data=pca_df_ss, hue=\"Group\")\n",
    "plt.show()"
   ]
  },
  {
   "cell_type": "code",
   "execution_count": null,
   "id": "3ed0087f",
   "metadata": {},
   "outputs": [],
   "source": [
    "pca_df"
   ]
  },
  {
   "cell_type": "code",
   "execution_count": null,
   "id": "3857aefa",
   "metadata": {},
   "outputs": [],
   "source": [
    "fig, ((ax1, ax2), (ax3, ax4)) = plt.subplots(2, 2,  figsize=(10, 10))\n",
    "sns.set_style(\"ticks\")\n",
    "sns.set_palette(\"icefire_r\")\n",
    "sns.scatterplot(x=pca_df_filt.iloc[:, 0], y=pca_df_filt.iloc[:, 1], hue=pca_df_filt[\"Group\"],  ax=ax1, s=150, alpha=0.8)\n",
    "sns.scatterplot(x=pca_df_ss.iloc[:, 0], y=pca_df_ss.iloc[:, 1], hue=pca_df_ss[\"Group\"],  ax=ax2, s=150, alpha=0.8)\n",
    "sns.kdeplot(x=pca_df_filt.iloc[:, 0], hue=pca_df_filt[\"Group\"], ax=ax3, fill=True, alpha=0.3)\n",
    "sns.kdeplot(x=pca_df_ss.iloc[:, 0], hue=pca_df_ss[\"Group\"], ax=ax4, fill=True, alpha=0.3)\n",
    "\n",
    "ax1.set_ylabel(\"PC2\")\n",
    "ax1.set_xlabel(\"PC1\")\n",
    "ax2.set_ylabel(\"PC2\")\n",
    "ax2.set_xlabel(\"PC1\")\n",
    "ax3.set_xlabel(\"PC1 scores\")\n",
    "ax4.set_xlabel(\"PC1 scores\")\n",
    "\n",
    "\n",
    "sns.despine()\n",
    "plt.tight_layout()\n",
    "plt.savefig(\"hpc_figures/IBD_PCA_met_vs_kPCA_top50.png\", dpi=300)\n",
    "plt.show()"
   ]
  },
  {
   "cell_type": "code",
   "execution_count": null,
   "id": "d66464f9",
   "metadata": {},
   "outputs": [],
   "source": [
    "pca_df"
   ]
  },
  {
   "cell_type": "code",
   "execution_count": null,
   "id": "963b8c38",
   "metadata": {},
   "outputs": [],
   "source": [
    "# 2 sided KS test\n",
    "stats.ks_2samp(pca_df[pca_df[\"Group\"].isin([\"CD\", \"UC\"])][0], pca_df[pca_df[\"Group\"].isin([\"nonIBD\"])][0])"
   ]
  },
  {
   "cell_type": "code",
   "execution_count": null,
   "id": "e9d8ed1b",
   "metadata": {},
   "outputs": [],
   "source": [
    "de_res_met = methods.t_tests(ibd_data_orig.iloc[:, :-2], ibd_data_orig[\"Group\"], \"fdr_bh\")\n",
    "top50mets = de_res_met.sort_values(by=\"P-adjust\")[\"Metabolite\"].tolist()\n",
    "pca_filt = PCA(n_components=5).fit_transform(ibd_data_orig.loc[:, top50mets])\n",
    "pca_df_filt = pd.DataFrame(pca_filt)\n",
    "pca_df_filt[\"Group\"] = ibd_data_orig[\"IBD_status\"].tolist()"
   ]
  },
  {
   "cell_type": "code",
   "execution_count": null,
   "id": "493a8cc3",
   "metadata": {},
   "outputs": [],
   "source": [
    "stats.ks_2samp(pca_df_filt[pca_df_filt[\"Group\"].isin([\"CD\", \"UC\"])][0], pca_df_filt[pca_df_filt[\"Group\"].isin([\"nonIBD\"])][0])"
   ]
  },
  {
   "cell_type": "code",
   "execution_count": null,
   "id": "e51055d7",
   "metadata": {},
   "outputs": [],
   "source": [
    "stats.ks_2samp(pca_df_ss[pca_df_ss[\"Group\"].isin([\"CD\", \"UC\"])][0], pca_df_ss[pca_df_ss[\"Group\"].isin([\"nonIBD\"])][0])"
   ]
  },
  {
   "cell_type": "markdown",
   "id": "d3a25100",
   "metadata": {},
   "source": [
    "# Test classification - random forest"
   ]
  },
  {
   "cell_type": "code",
   "execution_count": null,
   "id": "836115d5",
   "metadata": {},
   "outputs": [],
   "source": [
    "from sklearn.ensemble import RandomForestClassifier\n",
    "from sklearn.metrics import roc_auc_score,  RocCurveDisplay, roc_curve, confusion_matrix\n",
    "from sklearn.model_selection import train_test_split, KFold, StratifiedKFold, cross_val_score\n"
   ]
  },
  {
   "cell_type": "code",
   "execution_count": null,
   "id": "b7c0cb73",
   "metadata": {},
   "outputs": [],
   "source": [
    "labels = pd.factorize(ibd_data_orig[\"Group\"])[0]"
   ]
  },
  {
   "cell_type": "code",
   "execution_count": null,
   "id": "b7038991",
   "metadata": {},
   "outputs": [],
   "source": [
    "scores = gsva_res(ibd_data_orig.iloc[:, :-2], pathways_present).T\n",
    "# de_res_path = methods.t_tests(scores, ibd_data_orig[\"Group\"], \"fdr_bh\")\n",
    "# top50paths = de_res_path.sort_values(by=\"P-adjust\")[\"Metabolite\"].tolist()[0:50]\n",
    "# scores = scores.loc[:, top50paths]\n",
    "scores_df = pd.concat([scores, ibd_data_orig[[\"Group\", \"IBD_status\"]]], axis=1)"
   ]
  },
  {
   "cell_type": "code",
   "execution_count": null,
   "id": "6c2a3029",
   "metadata": {},
   "outputs": [],
   "source": [
    "# met level\n",
    "skf = StratifiedKFold(n_splits=3)\n",
    "X = ibd_data_orig.iloc[:, :-2].to_numpy()\n",
    "y = labels\n",
    "clf = RandomForestClassifier()\n",
    "print(cross_val_score(clf, X, y, cv=skf, scoring=\"roc_auc\"))"
   ]
  },
  {
   "cell_type": "code",
   "execution_count": null,
   "id": "3802d8a9",
   "metadata": {},
   "outputs": [],
   "source": [
    "# pathway level\n",
    "scores = gsva_res(ibd_data_orig.iloc[:, :-2], pathways_present).T\n",
    "de_res_path = methods.t_tests(scores, ibd_data_orig[\"Group\"], \"fdr_bh\")\n",
    "top50paths = de_res_path.sort_values(by=\"P-adjust\")[\"Metabolite\"].tolist()[0:50]\n",
    "scores = scores.loc[:, top50paths]\n",
    "scores_df = pd.concat([scores, ibd_data_orig[[\"Group\", \"IBD_status\"]]], axis=1)\n",
    "\n",
    "skf_p = StratifiedKFold(n_splits=3)\n",
    "X_p = scores_df.iloc[:, :-2].to_numpy()\n",
    "y_p = labels\n",
    "clf_p = RandomForestClassifier()\n",
    "print(cross_val_score(clf_p, X_p, y_p, cv=skf_p, scoring=\"roc_auc\"))"
   ]
  },
  {
   "cell_type": "code",
   "execution_count": null,
   "id": "dd5c588f",
   "metadata": {},
   "outputs": [],
   "source": [
    "skf_p = StratifiedKFold(n_splits=3)\n",
    "X_p = scores_df.iloc[:, :-2].to_numpy()\n",
    "y_p = labels\n",
    "base_fpr_p = np.linspace(0, 1, 101)\n",
    "roc_all_p = []\n",
    "tprs_p = []\n",
    "aurocs_p = []\n",
    "\n",
    "for i in range(0, 50):\n",
    "    for train, test in skf_p.split(X_p, y_p):\n",
    "        clf_p = RandomForestClassifier()\n",
    "        clf_p.fit(X_p[train], y_p[train])\n",
    "#         roc_all_p.append(roc_curve(y_p[test], clf_p.predict_proba(X_p[test])[:,1]))\n",
    "        fpr, tpr, _ = roc_curve(y_p[test], clf_p.predict_proba(X_p[test])[:,1])\n",
    "        tpr = np.interp(base_fpr_p, fpr, tpr)\n",
    "        tpr[0] = 0.0\n",
    "        tprs_p.append(tpr)\n",
    "        aurocs_p.append(roc_auc_score(y_p[test], clf_p.predict_proba(X_p[test])[:, 1]))\n",
    "\n",
    "tprs_p = np.array(tprs_p)\n",
    "mean_tprs_p = tprs_p.mean(axis=0)\n",
    "std_p = tprs_p.std(axis=0)\n",
    "tprs_upper_p = np.minimum(mean_tprs_p + std_p, 1)\n",
    "tprs_lower_p = mean_tprs_p - std_p\n"
   ]
  },
  {
   "cell_type": "code",
   "execution_count": null,
   "id": "3d4f5017",
   "metadata": {},
   "outputs": [],
   "source": [
    "print(np.mean(aurocs_p))"
   ]
  },
  {
   "cell_type": "code",
   "execution_count": null,
   "id": "190df7d2",
   "metadata": {},
   "outputs": [],
   "source": [
    "print(np.std(aurocs_p))"
   ]
  },
  {
   "cell_type": "code",
   "execution_count": null,
   "id": "0ee3c009",
   "metadata": {},
   "outputs": [],
   "source": [
    "skf = StratifiedKFold(n_splits=3)\n",
    "X = ibd_data_orig.iloc[:, :-2].to_numpy()\n",
    "y = labels\n",
    "base_fpr = np.linspace(0, 1, 101)\n",
    "roc_all = []\n",
    "tprs = []\n",
    "aurocs = []\n",
    "\n",
    "for i in range(0, 50):\n",
    "    for train, test in skf.split(X, y):\n",
    "        clf = RandomForestClassifier()\n",
    "        clf.fit(X[train], y[train])\n",
    "#         roc_all.append(roc_curve(y[test], clf.predict_proba(X[test])[:,1]))\n",
    "        fpr, tpr, _ = roc_curve(y[test], clf.predict_proba(X[test])[:,1])\n",
    "        tpr = np.interp(base_fpr, fpr, tpr)\n",
    "        tpr[0] = 0.0\n",
    "        tprs.append(tpr)\n",
    "        aurocs.append(roc_auc_score(y[test], clf.predict_proba(X[test])[:, 1]))\n",
    "        \n",
    "tprs = np.array(tprs)\n",
    "mean_tprs = tprs.mean(axis=0)\n",
    "std = tprs.std(axis=0)\n",
    "tprs_upper = np.minimum(mean_tprs + std, 1)\n",
    "tprs_lower = mean_tprs - std\n"
   ]
  },
  {
   "cell_type": "code",
   "execution_count": null,
   "id": "770ac96c",
   "metadata": {},
   "outputs": [],
   "source": [
    "print(np.mean(aurocs))"
   ]
  },
  {
   "cell_type": "code",
   "execution_count": null,
   "id": "4ff90078",
   "metadata": {},
   "outputs": [],
   "source": [
    "print(np.std(aurocs))"
   ]
  },
  {
   "cell_type": "code",
   "execution_count": null,
   "id": "fdefb619",
   "metadata": {},
   "outputs": [],
   "source": [
    "plt.figure(figsize=(7,7))\n",
    "plt.style.use(\"seaborn-ticks\")\n",
    "plt.plot(base_fpr, mean_tprs, 'b', label=\"Metabolites\")\n",
    "plt.plot(base_fpr_p, mean_tprs_p, 'g', label=\"ssClustPAproj scores\")\n",
    "plt.fill_between(base_fpr, tprs_lower, tprs_upper, color='grey', alpha=0.2)\n",
    "plt.fill_between(base_fpr_p, tprs_lower_p, tprs_upper_p, color='grey', alpha=0.2)\n",
    "plt.plot([0, 1], [0, 1],'r--')\n",
    "plt.xlim([-0.01, 1.01])\n",
    "plt.ylim([-0.01, 1.01])\n",
    "plt.ylabel('True Positive Rate')\n",
    "plt.xlabel('False Positive Rate')\n",
    "plt.legend()\n",
    "plt.tight_layout()\n",
    "plt.savefig(\"hpc_figures/roc_curve_IBD_ssClustPAproj.png\", dpi=300)\n",
    "plt.show()"
   ]
  },
  {
   "cell_type": "markdown",
   "id": "b39b6fe2",
   "metadata": {},
   "source": [
    "## Feature importance (permutation)"
   ]
  },
  {
   "cell_type": "code",
   "execution_count": null,
   "id": "aa26aef2",
   "metadata": {},
   "outputs": [],
   "source": [
    "# pathway level\n",
    "scores = kpca_res(ibd_data_orig.iloc[:, :-2], pathways_present).T\n",
    "# de_res_path = methods.t_tests(scores, ibd_data_orig[\"Group\"], \"fdr_bh\")\n",
    "# top50paths = de_res_path.sort_values(by=\"P-adjust\")[\"Metabolite\"].tolist()[0:50]\n",
    "# scores = scores.loc[:, top50paths]\n",
    "scores_df = pd.concat([scores, ibd_data_orig[[\"Group\", \"IBD_status\"]]], axis=1)\n",
    "\n",
    "skf_p = StratifiedKFold(n_splits=3)\n",
    "X_p = scores_df.iloc[:, :-2].to_numpy()\n",
    "y_p = labels"
   ]
  },
  {
   "cell_type": "code",
   "execution_count": null,
   "id": "079eb9c7",
   "metadata": {},
   "outputs": [],
   "source": [
    "X_train, X_test, y_train, y_test = train_test_split(X_p, y_p, test_size=30)"
   ]
  },
  {
   "cell_type": "code",
   "execution_count": null,
   "id": "d2b3239f",
   "metadata": {},
   "outputs": [],
   "source": [
    "forest = RandomForestClassifier()\n",
    "forest.fit(X_p, y_p)"
   ]
  },
  {
   "cell_type": "code",
   "execution_count": null,
   "id": "e1e4b444",
   "metadata": {},
   "outputs": [],
   "source": [
    "from sklearn.inspection import permutation_importance\n",
    "import time\n",
    "start_time = time.time()\n",
    "result = permutation_importance(\n",
    "    forest, X_p, y_p, n_repeats=30, scoring=\"roc_auc\"\n",
    ")\n",
    "elapsed_time = time.time() - start_time\n",
    "print(f\"Elapsed time to compute the importances: {elapsed_time:.3f} seconds\")\n",
    "\n",
    "forest_importances = pd.Series(result.importances_mean, index=scores_df.iloc[:, :-2].columns)"
   ]
  },
  {
   "cell_type": "code",
   "execution_count": null,
   "id": "236bc057",
   "metadata": {},
   "outputs": [],
   "source": [
    "forest_importances.abs().sort_values()"
   ]
  },
  {
   "cell_type": "code",
   "execution_count": null,
   "id": "5e3eadd4",
   "metadata": {},
   "outputs": [],
   "source": [
    "df = forest_importances.to_frame()"
   ]
  },
  {
   "cell_type": "code",
   "execution_count": null,
   "id": "4c658443",
   "metadata": {},
   "outputs": [],
   "source": [
    "df[\"Name\"] = df.index.map(pathway_names)"
   ]
  },
  {
   "cell_type": "code",
   "execution_count": null,
   "id": "ac0b675a",
   "metadata": {},
   "outputs": [],
   "source": [
    "df = df.sort_values(by=0, key=abs, ascending=False)\n",
    "df.to_csv(\"IBD_KPCA_RF_feature_importances.csv\")"
   ]
  }
 ],
 "metadata": {
  "interpreter": {
   "hash": "23ea5e9fc1ad4b9eb24946cf0ecf7cc260d8bae5486f6ef3ca6936cfe8f73f8c"
  },
  "kernelspec": {
   "display_name": "Python [conda env:py39]",
   "language": "python",
   "name": "python3"
  },
  "language_info": {
   "codemirror_mode": {
    "name": "ipython",
    "version": 3
   },
   "file_extension": ".py",
   "mimetype": "text/x-python",
   "name": "python",
   "nbconvert_exporter": "python",
   "pygments_lexer": "ipython3",
   "version": "3.9.5"
  }
 },
 "nbformat": 4,
 "nbformat_minor": 5
}
